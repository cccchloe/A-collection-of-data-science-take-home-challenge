{
 "cells": [
  {
   "cell_type": "code",
   "execution_count": 1,
   "metadata": {},
   "outputs": [
    {
     "name": "stdout",
     "output_type": "stream",
     "text": [
      "Populating the interactive namespace from numpy and matplotlib\n"
     ]
    }
   ],
   "source": [
    "%pylab inline\n",
    "import pandas as pd\n",
    "import numpy as np\n",
    "import matplotlib.pyplot as plt\n",
    "import seaborn as sns\n",
    "plt.style.use('ggplot')\n",
    "from IPython.display import Image \n",
    "from io import StringIO\n",
    "import pydotplus\n",
    "\n",
    "from sklearn.metrics import auc, roc_curve, classification_report,confusion_matrix\n",
    "from sklearn.model_selection import train_test_split\n",
    "from sklearn.ensemble import RandomForestClassifier\n",
    "from sklearn import tree\n"
   ]
  },
  {
   "cell_type": "markdown",
   "metadata": {},
   "source": [
    "## Load dataset"
   ]
  },
  {
   "cell_type": "code",
   "execution_count": 2,
   "metadata": {},
   "outputs": [],
   "source": [
    "df=pd.read_csv('conversion_data.csv')"
   ]
  },
  {
   "cell_type": "code",
   "execution_count": 3,
   "metadata": {},
   "outputs": [
    {
     "data": {
      "text/html": [
       "<div>\n",
       "<style scoped>\n",
       "    .dataframe tbody tr th:only-of-type {\n",
       "        vertical-align: middle;\n",
       "    }\n",
       "\n",
       "    .dataframe tbody tr th {\n",
       "        vertical-align: top;\n",
       "    }\n",
       "\n",
       "    .dataframe thead th {\n",
       "        text-align: right;\n",
       "    }\n",
       "</style>\n",
       "<table border=\"1\" class=\"dataframe\">\n",
       "  <thead>\n",
       "    <tr style=\"text-align: right;\">\n",
       "      <th></th>\n",
       "      <th>age</th>\n",
       "      <th>new_user</th>\n",
       "      <th>total_pages_visited</th>\n",
       "      <th>converted</th>\n",
       "    </tr>\n",
       "  </thead>\n",
       "  <tbody>\n",
       "    <tr>\n",
       "      <th>count</th>\n",
       "      <td>316200.000000</td>\n",
       "      <td>316200.000000</td>\n",
       "      <td>316200.000000</td>\n",
       "      <td>316200.000000</td>\n",
       "    </tr>\n",
       "    <tr>\n",
       "      <th>mean</th>\n",
       "      <td>30.569858</td>\n",
       "      <td>0.685465</td>\n",
       "      <td>4.872966</td>\n",
       "      <td>0.032258</td>\n",
       "    </tr>\n",
       "    <tr>\n",
       "      <th>std</th>\n",
       "      <td>8.271802</td>\n",
       "      <td>0.464331</td>\n",
       "      <td>3.341104</td>\n",
       "      <td>0.176685</td>\n",
       "    </tr>\n",
       "    <tr>\n",
       "      <th>min</th>\n",
       "      <td>17.000000</td>\n",
       "      <td>0.000000</td>\n",
       "      <td>1.000000</td>\n",
       "      <td>0.000000</td>\n",
       "    </tr>\n",
       "    <tr>\n",
       "      <th>25%</th>\n",
       "      <td>24.000000</td>\n",
       "      <td>0.000000</td>\n",
       "      <td>2.000000</td>\n",
       "      <td>0.000000</td>\n",
       "    </tr>\n",
       "    <tr>\n",
       "      <th>50%</th>\n",
       "      <td>30.000000</td>\n",
       "      <td>1.000000</td>\n",
       "      <td>4.000000</td>\n",
       "      <td>0.000000</td>\n",
       "    </tr>\n",
       "    <tr>\n",
       "      <th>75%</th>\n",
       "      <td>36.000000</td>\n",
       "      <td>1.000000</td>\n",
       "      <td>7.000000</td>\n",
       "      <td>0.000000</td>\n",
       "    </tr>\n",
       "    <tr>\n",
       "      <th>max</th>\n",
       "      <td>123.000000</td>\n",
       "      <td>1.000000</td>\n",
       "      <td>29.000000</td>\n",
       "      <td>1.000000</td>\n",
       "    </tr>\n",
       "  </tbody>\n",
       "</table>\n",
       "</div>"
      ],
      "text/plain": [
       "                 age       new_user  total_pages_visited      converted\n",
       "count  316200.000000  316200.000000        316200.000000  316200.000000\n",
       "mean       30.569858       0.685465             4.872966       0.032258\n",
       "std         8.271802       0.464331             3.341104       0.176685\n",
       "min        17.000000       0.000000             1.000000       0.000000\n",
       "25%        24.000000       0.000000             2.000000       0.000000\n",
       "50%        30.000000       1.000000             4.000000       0.000000\n",
       "75%        36.000000       1.000000             7.000000       0.000000\n",
       "max       123.000000       1.000000            29.000000       1.000000"
      ]
     },
     "execution_count": 3,
     "metadata": {},
     "output_type": "execute_result"
    }
   ],
   "source": [
    "df.describe()"
   ]
  },
  {
   "cell_type": "code",
   "execution_count": 4,
   "metadata": {},
   "outputs": [
    {
     "name": "stdout",
     "output_type": "stream",
     "text": [
      "country                  4\t ['China', 'Germany', 'UK', 'US']\n",
      "age                     60\t [17, 18, 19, 20, 21]\n",
      "new_user                 2\t [0, 1]\n",
      "source                   3\t ['Ads', 'Direct', 'Seo']\n",
      "total_pages_visited     29\t [1, 2, 3, 4, 5]\n",
      "converted                2\t [0, 1]\n"
     ]
    }
   ],
   "source": [
    "\n",
    "for column in df.columns:\n",
    "    uniques = sorted(df[column].unique())\n",
    "    print('{0:20s} {1:5d}\\t'.format(column, len(uniques)), uniques[:5])"
   ]
  },
  {
   "cell_type": "markdown",
   "metadata": {},
   "source": [
    "\n",
    "## Data cleaning- remove outliers"
   ]
  },
  {
   "cell_type": "code",
   "execution_count": 5,
   "metadata": {},
   "outputs": [
    {
     "data": {
      "text/html": [
       "<div>\n",
       "<style scoped>\n",
       "    .dataframe tbody tr th:only-of-type {\n",
       "        vertical-align: middle;\n",
       "    }\n",
       "\n",
       "    .dataframe tbody tr th {\n",
       "        vertical-align: top;\n",
       "    }\n",
       "\n",
       "    .dataframe thead th {\n",
       "        text-align: right;\n",
       "    }\n",
       "</style>\n",
       "<table border=\"1\" class=\"dataframe\">\n",
       "  <thead>\n",
       "    <tr style=\"text-align: right;\">\n",
       "      <th></th>\n",
       "      <th>country</th>\n",
       "      <th>age</th>\n",
       "      <th>new_user</th>\n",
       "      <th>source</th>\n",
       "      <th>total_pages_visited</th>\n",
       "      <th>converted</th>\n",
       "    </tr>\n",
       "  </thead>\n",
       "  <tbody>\n",
       "    <tr>\n",
       "      <th>90928</th>\n",
       "      <td>Germany</td>\n",
       "      <td>123</td>\n",
       "      <td>0</td>\n",
       "      <td>Seo</td>\n",
       "      <td>15</td>\n",
       "      <td>1</td>\n",
       "    </tr>\n",
       "    <tr>\n",
       "      <th>295581</th>\n",
       "      <td>UK</td>\n",
       "      <td>111</td>\n",
       "      <td>0</td>\n",
       "      <td>Ads</td>\n",
       "      <td>10</td>\n",
       "      <td>1</td>\n",
       "    </tr>\n",
       "  </tbody>\n",
       "</table>\n",
       "</div>"
      ],
      "text/plain": [
       "        country  age  new_user source  total_pages_visited  converted\n",
       "90928   Germany  123         0    Seo                   15          1\n",
       "295581       UK  111         0    Ads                   10          1"
      ]
     },
     "execution_count": 5,
     "metadata": {},
     "output_type": "execute_result"
    }
   ],
   "source": [
    "df.loc[df.age>=100]"
   ]
  },
  {
   "cell_type": "code",
   "execution_count": 6,
   "metadata": {},
   "outputs": [
    {
     "data": {
      "text/plain": [
       "count    316198.000000\n",
       "mean         30.569311\n",
       "std           8.268958\n",
       "min          17.000000\n",
       "25%          24.000000\n",
       "50%          30.000000\n",
       "75%          36.000000\n",
       "max          79.000000\n",
       "Name: age, dtype: float64"
      ]
     },
     "execution_count": 6,
     "metadata": {},
     "output_type": "execute_result"
    }
   ],
   "source": [
    "df.age[df.age<100].describe()"
   ]
  },
  {
   "cell_type": "code",
   "execution_count": 7,
   "metadata": {},
   "outputs": [],
   "source": [
    "df=df.loc[df.age<100]"
   ]
  },
  {
   "cell_type": "markdown",
   "metadata": {},
   "source": [
    "## EDA"
   ]
  },
  {
   "cell_type": "code",
   "execution_count": 8,
   "metadata": {},
   "outputs": [
    {
     "data": {
      "image/png": "[encoded data removed]",
      "text/plain": [
       "<Figure size 1296x432 with 2 Axes>"
      ]
     },
     "metadata": {},
     "output_type": "display_data"
    }
   ],
   "source": [
    "countries=df[['country','converted']].groupby('country').mean().reset_index()\n",
    "\n",
    "fig, ax=plt.subplots(nrows=1,ncols=2,figsize=(18,6))\n",
    "sns.countplot(x='country',hue='converted',data=df,ax=ax[0])\n",
    "ax[0].set_title('count plot of country')\n",
    "ax[0].set_yscale('log')\n",
    "sns.barplot(x='country', y='converted',data=df,ax=ax[1])\n",
    "ax[1].set_title('mean conversion rate per country')\n",
    "plt.show()"
   ]
  },
  {
   "cell_type": "markdown",
   "metadata": {},
   "source": [
    "1. It looks like china convert a much lower rate than other countries while it has lots of users.\n",
    "2. Although Germany has fewer users, It has the highest conversion rate."
   ]
  },
  {
   "cell_type": "code",
   "execution_count": 9,
   "metadata": {},
   "outputs": [
    {
     "data": {
      "image/png": "[encoded data removed]",
      "text/plain": [
       "<Figure size 1296x432 with 2 Axes>"
      ]
     },
     "metadata": {},
     "output_type": "display_data"
    }
   ],
   "source": [
    "users=df[['new_user','converted']].groupby('new_user').mean().reset_index()\n",
    "\n",
    "fig, ax=plt.subplots(nrows=1,ncols=2,figsize=(18,6))\n",
    "sns.countplot(x='new_user',hue='converted',data=df,ax=ax[0])\n",
    "ax[0].set_title('count plot of user type')\n",
    "ax[0].set_yscale('log')\n",
    "sns.barplot(x='new_user', y='converted',data=df,ax=ax[1])\n",
    "ax[1].set_title('mean conversion rate per user type')\n",
    "plt.show()"
   ]
  },
  {
   "cell_type": "markdown",
   "metadata": {},
   "source": [
    "Old users obviously have higher conversion rate than new users although the amount of new users is larger. It means that new users are continously attracted to view the website. We need to figure out which part prevent them from conversion."
   ]
  },
  {
   "cell_type": "code",
   "execution_count": 10,
   "metadata": {},
   "outputs": [
    {
     "data": {
      "image/png": "[encoded data removed]",
      "text/plain": [
       "<Figure size 1296x432 with 2 Axes>"
      ]
     },
     "metadata": {},
     "output_type": "display_data"
    }
   ],
   "source": [
    "sources=df[['source','converted']].groupby('source').mean().reset_index()\n",
    "\n",
    "fig, ax=plt.subplots(nrows=1,ncols=2,figsize=(18,6))\n",
    "sns.countplot(x='source',hue='converted',data=df,ax=ax[0])\n",
    "ax[0].set_title('count plot of source type')\n",
    "ax[0].set_yscale('log')\n",
    "sns.barplot(x='source', y='converted',data=df,ax=ax[1])\n",
    "ax[1].set_title('mean conversion rate per source type')\n",
    "plt.show()"
   ]
  },
  {
   "cell_type": "code",
   "execution_count": 11,
   "metadata": {},
   "outputs": [
    {
     "data": {
      "text/plain": [
       "<matplotlib.collections.PathCollection at 0x1874b1a85c0>"
      ]
     },
     "execution_count": 11,
     "metadata": {},
     "output_type": "execute_result"
    },
    {
     "data": {
      "image/png": "[encoded data removed]",
      "text/plain": [
       "<Figure size 432x288 with 1 Axes>"
      ]
     },
     "metadata": {},
     "output_type": "display_data"
    }
   ],
   "source": [
    "plt.scatter(df.age,df.converted)"
   ]
  },
  {
   "cell_type": "code",
   "execution_count": 12,
   "metadata": {},
   "outputs": [
    {
     "data": {
      "text/plain": [
       "Text(0.5,0,'age')"
      ]
     },
     "execution_count": 12,
     "metadata": {},
     "output_type": "execute_result"
    },
    {
     "data": {
      "image/png": "[encoded data removed]",
      "text/plain": [
       "<Figure size 432x288 with 1 Axes>"
      ]
     },
     "metadata": {},
     "output_type": "display_data"
    }
   ],
   "source": [
    "ages=df[['age','converted']].groupby('age').mean().reset_index()\n",
    "plt.scatter(ages.age,ages.converted)\n",
    "plt.ylabel('conversion rate')\n",
    "plt.xlabel('age')"
   ]
  },
  {
   "cell_type": "markdown",
   "metadata": {},
   "source": [
    "From above plot, we can see there is clearly no 'conversion' from users older than 60. The younger the user is, the higher conversion rate "
   ]
  },
  {
   "cell_type": "code",
   "execution_count": 13,
   "metadata": {},
   "outputs": [
    {
     "data": {
      "text/plain": [
       "Text(0.5,0,'total_pages_visited')"
      ]
     },
     "execution_count": 13,
     "metadata": {},
     "output_type": "execute_result"
    },
    {
     "data": {
      "image/png": "[encoded data removed]",
      "text/plain": [
       "<Figure size 432x288 with 1 Axes>"
      ]
     },
     "metadata": {},
     "output_type": "display_data"
    }
   ],
   "source": [
    "pages=df[['total_pages_visited','converted']].groupby('total_pages_visited').mean().reset_index()\n",
    "plt.scatter(pages.total_pages_visited,pages.converted)\n",
    "plt.ylabel('conversion rate')\n",
    "plt.xlabel('total_pages_visited')"
   ]
  },
  {
   "cell_type": "markdown",
   "metadata": {},
   "source": [
    "Definitely spending more time on the site implies higher probability of conversion."
   ]
  },
  {
   "cell_type": "markdown",
   "metadata": {},
   "source": [
    "## Data Preprocessing"
   ]
  },
  {
   "cell_type": "code",
   "execution_count": 9,
   "metadata": {},
   "outputs": [],
   "source": [
    "## one-hot-encoding for categorical features\n",
    "X=df.loc[:,('country', 'age', 'new_user', 'source', 'total_pages_visited')]\n",
    "X=pd.get_dummies(X)"
   ]
  },
  {
   "cell_type": "code",
   "execution_count": 10,
   "metadata": {},
   "outputs": [
    {
     "data": {
      "text/plain": [
       "0.03225194340255157"
      ]
     },
     "execution_count": 10,
     "metadata": {},
     "output_type": "execute_result"
    }
   ],
   "source": [
    "y=df['converted']\n",
    "y.mean()"
   ]
  },
  {
   "cell_type": "markdown",
   "metadata": {},
   "source": [
    "from y's mean(), we know that, target value is very imbalanced, which reminds us should not use plain 'accurancy' as the metric to judge a classifier is good or not\n",
    "\n",
    "then we need to split the whole dataset into 'training' dataset and 'test' dataset"
   ]
  },
  {
   "cell_type": "code",
   "execution_count": 11,
   "metadata": {},
   "outputs": [
    {
     "data": {
      "text/plain": [
       "(0.03244604180100899, 0.031863164092920775)"
      ]
     },
     "execution_count": 11,
     "metadata": {},
     "output_type": "execute_result"
    }
   ],
   "source": [
    "Xtrain,Xtest,ytrain,ytest = train_test_split(X,y,test_size=0.333,random_state=0)\n",
    "ytrain.mean(),ytest.mean()"
   ]
  },
  {
   "cell_type": "markdown",
   "metadata": {},
   "source": [
    "since both ytrain.mean() and ytest.mean() are similar to y.mean(), we can say, the splitting process doesn't import any bias"
   ]
  },
  {
   "cell_type": "markdown",
   "metadata": {},
   "source": [
    "## Random Forest Classifier"
   ]
  },
  {
   "cell_type": "markdown",
   "metadata": {},
   "source": [
    "I am going to pick a random forest to predict conversion rate. I pick a random forest cause: it usually\n",
    "requires very little time to optimize it (its default params are often close to the best ones) and it is strong\n",
    "with outliers, irrelevant variables, continuous and discrete variables. I will use the random forest to predict\n",
    "conversion, then I will use its partial dependence plots and variable importance to get insights about how\n",
    "it got information from the variables. Also, I will build a simple tree to find the most obvious user segments\n",
    "and see if they agree with RF partial dependence plots."
   ]
  },
  {
   "cell_type": "code",
   "execution_count": 17,
   "metadata": {},
   "outputs": [],
   "source": [
    "clf=RandomForestClassifier(n_estimators=10,random_state=0)\n",
    "clf=clf.fit(Xtrain,ytrain)"
   ]
  },
  {
   "cell_type": "code",
   "execution_count": 18,
   "metadata": {},
   "outputs": [
    {
     "name": "stdout",
     "output_type": "stream",
     "text": [
      "0.9883738573000038\n",
      "0.9841016582141433\n",
      "0.9681368359070792\n"
     ]
    }
   ],
   "source": [
    "print(clf.score(Xtrain,ytrain))\n",
    "print(clf.score(Xtest,ytest))\n",
    "print(1-ytest.mean())"
   ]
  },
  {
   "cell_type": "code",
   "execution_count": 19,
   "metadata": {},
   "outputs": [
    {
     "name": "stdout",
     "output_type": "stream",
     "text": [
      "              precision    recall  f1-score   support\n",
      "\n",
      "           0       0.99      0.99      0.99    101939\n",
      "           1       0.80      0.67      0.73      3355\n",
      "\n",
      "   micro avg       0.98      0.98      0.98    105294\n",
      "   macro avg       0.89      0.83      0.86    105294\n",
      "weighted avg       0.98      0.98      0.98    105294\n",
      "\n",
      "[[101382    557]\n",
      " [  1117   2238]]\n",
      "0.8308000157132047\n"
     ]
    }
   ],
   "source": [
    "ypred=clf.predict(Xtest)\n",
    "print(classification_report(y_true=ytest,y_pred=ypred))\n",
    "print(confusion_matrix(y_true=ytest,y_pred=ypred))\n",
    "fpr,tpr,thresholds=roc_curve(ytest,ypred)\n",
    "print(auc(fpr,tpr))"
   ]
  },
  {
   "cell_type": "markdown",
   "metadata": {},
   "source": [
    "from above, we know for \"label=converted\", if we use the default cutoff 0.5, we can have a high precision (0.80), but a not very good recall 0.67, which means we classify 33% converted user as non-converted.\n",
    "\n",
    "since our task is giving Sales team and Marking team some insights, so we don't need to tune the cutoff value now, since that won't affect the model. however, if, for example, if we care more about not losing a valued customer, so incorrectly classifing a converted user as non-converted will pay much, we need to lower down the cut-off probability to be 1, which will increase the recall with the price lower than precision.\n",
    "\n",
    "since this is an imbalanced classification problem, if we group every record as 'NOT converted', we can still get 96.81 accuracy (1-ytest.mean()). since our RF model produces an accurancy as 98.41% on test dataset, which indicates it is a model which makes sense."
   ]
  },
  {
   "cell_type": "code",
   "execution_count": 20,
   "metadata": {},
   "outputs": [],
   "source": [
    "fi=pd.DataFrame(columns=['feature','importance'])\n",
    "fi.feature=list(X.columns)\n",
    "fi.importance=list(clf.feature_importances_)\n",
    "fi=fi.sort_values(['importance'],ascending=False).reset_index(drop=True)"
   ]
  },
  {
   "cell_type": "code",
   "execution_count": 21,
   "metadata": {},
   "outputs": [
    {
     "data": {
      "image/png": "[encoded data removed]",
      "text/plain": [
       "<Figure size 432x288 with 1 Axes>"
      ]
     },
     "metadata": {},
     "output_type": "display_data"
    }
   ],
   "source": [
    "ax=sns.barplot(y=fi.feature,x=fi.importance,data=fi)\n",
    "ax.set_title('feature importance')\n",
    "plt.show()"
   ]
  },
  {
   "cell_type": "markdown",
   "metadata": {},
   "source": [
    "Total pages visited is the most important one, by far. Unfortunately, it is probably the least “actionable”.\n",
    "People visit many pages cause they already want to buy. Also, in order to buy you have to click on\n",
    "multiple pages.\n",
    "Let’s rebuild the RF without that variable. Since classes are heavily unbalanced and we don’t have that\n",
    "very powerful variable anymore, let’s change the weight a bit, just to make sure we will get something\n",
    "classified as 1."
   ]
  },
  {
   "cell_type": "code",
   "execution_count": 22,
   "metadata": {},
   "outputs": [
    {
     "data": {
      "text/plain": [
       "(0.03244604180100899, 0.031863164092920775)"
      ]
     },
     "execution_count": 22,
     "metadata": {},
     "output_type": "execute_result"
    }
   ],
   "source": [
    "X2=X[['age','new_user','country_China','country_Germany','country_UK','country_US','source_Ads','source_Direct','source_Seo']]\n",
    "\n",
    "Xtrain2,Xtest2,ytrain2,ytest2 = train_test_split(X2,y,test_size=0.333,random_state=0)\n",
    "ytrain2.mean(),ytest2.mean()"
   ]
  },
  {
   "cell_type": "code",
   "execution_count": 23,
   "metadata": {},
   "outputs": [
    {
     "name": "stdout",
     "output_type": "stream",
     "text": [
      "0.742408868489929\n",
      "0.7429293217087394\n",
      "0.9681368359070792\n",
      "              precision    recall  f1-score   support\n",
      "\n",
      "           0       0.99      0.74      0.85    101939\n",
      "           1       0.09      0.74      0.15      3355\n",
      "\n",
      "   micro avg       0.74      0.74      0.74    105294\n",
      "   macro avg       0.54      0.74      0.50    105294\n",
      "weighted avg       0.96      0.74      0.83    105294\n",
      "\n",
      "[[75753 26186]\n",
      " [  882  2473]]\n",
      "0.7401148394332844\n"
     ]
    }
   ],
   "source": [
    "clf2=RandomForestClassifier(n_estimators=10,random_state=0,class_weight='balanced')\n",
    "clf2=clf2.fit(Xtrain2,ytrain2)\n",
    "\n",
    "print(clf2.score(Xtrain2,ytrain2))\n",
    "print(clf2.score(Xtest2,ytest2))\n",
    "print(1-ytest2.mean())\n",
    "\n",
    "ypred2=clf2.predict(Xtest2)\n",
    "print(classification_report(y_true=ytest2,y_pred=ypred2))\n",
    "print(confusion_matrix(y_true=ytest2,y_pred=ypred2))\n",
    "fpr,tpr,thresholds=roc_curve(ytest2,ypred2)\n",
    "print(auc(fpr,tpr))"
   ]
  },
  {
   "cell_type": "code",
   "execution_count": 24,
   "metadata": {},
   "outputs": [
    {
     "data": {
      "image/png": "[encoded data removed]",
      "text/plain": [
       "<Figure size 432x288 with 1 Axes>"
      ]
     },
     "metadata": {},
     "output_type": "display_data"
    }
   ],
   "source": [
    "fi=pd.DataFrame(columns=['feature','importance'])\n",
    "fi.feature=list(X2.columns)\n",
    "fi.importance=list(clf2.feature_importances_)\n",
    "fi=fi.sort_values(['importance'],ascending=False).reset_index(drop=True)\n",
    "\n",
    "ax=sns.barplot(y=fi.feature,x=fi.importance,data=fi)\n",
    "ax.set_title('feature importance')\n",
    "plt.show()"
   ]
  },
  {
   "cell_type": "markdown",
   "metadata": {},
   "source": [
    "New user is the most important one. Source doesn’t seem to matter at all."
   ]
  },
  {
   "cell_type": "code",
   "execution_count": 15,
   "metadata": {
    "scrolled": true
   },
   "outputs": [],
   "source": [
    "clf3=tree.DecisionTreeClassifier()\n",
    "clf3=clf3.fit(X, y)\n",
    "\n",
    "def plot_decision_tree(clf,feature_name,target_name):\n",
    "    #dot_data=StringIO()\n",
    "    tree.export_graphviz(clf,out_file='tree.dot',\n",
    "                        feature_names=feature_name,\n",
    "                        class_names=target_name,\n",
    "                        filled=True,rounded=True,\n",
    "                        special_characters=True)\n",
    "    #graph=pydotplus.graph_from_dot_data(dot_data.getvalue())\n",
    "    #graph.write_pdf('conversion_rate.pdf')\n",
    "    #return Image(graph.create_png())\n",
    "    #when graph is too large, we can't export it as pdf. Instead, we should export as dot\n",
    "    #input dot -Tpng tree.dot -o tree.png -Gdpi=600    to transform into png and limit max_depth\n",
    "\n",
    "plot_decision_tree(clf3,X.columns,'converted')\n",
    "\n",
    "Image(filename='tree.png')"
   ]
  },
  {
   "cell_type": "markdown",
   "metadata": {},
   "source": [
    "Some conclusions and suggestions:\n",
    "1. The site is working very well for young users. Definitely let’s tell marketing to advertise and use marketing channel which are more likely to reach young people.\n",
    "2. The site is working very well for Germany in terms of conversion. But the summary showed that there are few Germans coming to the site: way less than UK, despite a larger population. Again, marketing should get more Germans. Big opportunity.\n",
    "3. Users with old accounts do much better. Targeted emails with offers to bring them back to the site could be a good idea to try.\n",
    "4. Something is wrong with the Chinese version of the site. It is either poorly translated, doesn’t fit the local culture, some payment issue or maybe it is just in English! Given how many users are based in China, fixing this should be a top priority. Huge opportunity.\n",
    "5. Maybe go through the UI and figure out why older users perform so poorly? From 30 y/o conversion clearly starts dropping.\n",
    "6. If I know someone has visited many pages, but hasn’t converted, she almost surely has high purchase intent. I could email her targeted offers or sending her reminders. Overall, these are probably the easiest users to make convert."
   ]
  },
  {
   "cell_type": "markdown",
   "metadata": {},
   "source": [
    "As you can see, conclusions usually end up being about:\n",
    "1. tell marketing to get more of the good performing user segments\n",
    "2. tell product to fix the experience for the bad performing ones"
   ]
  }
 ],
 "metadata": {
  "kernelspec": {
   "display_name": "Python 3",
   "language": "python",
   "name": "python3"
  },
  "language_info": {
   "codemirror_mode": {
    "name": "ipython",
    "version": 3
   },
   "file_extension": ".py",
   "mimetype": "text/x-python",
   "name": "python",
   "nbconvert_exporter": "python",
   "pygments_lexer": "ipython3",
   "version": "3.6.5"
  }
 },
 "nbformat": 4,
 "nbformat_minor": 2
}
